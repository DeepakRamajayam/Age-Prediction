{
  "nbformat": 4,
  "nbformat_minor": 0,
  "metadata": {
    "colab": {
      "provenance": [],
      "gpuType": "T4"
    },
    "kernelspec": {
      "name": "python3",
      "display_name": "Python 3"
    },
    "language_info": {
      "name": "python"
    },
    "accelerator": "GPU"
  },
  "cells": [
    {
      "cell_type": "code",
      "execution_count": null,
      "metadata": {
        "id": "_CE4Ve6Ci8fp"
      },
      "outputs": [],
      "source": [
        "import os\n",
        "import json\n",
        "import numpy as np\n",
        "import tensorflow as tf\n",
        "from google.colab import drive\n",
        "from sklearn.model_selection import train_test_split"
      ]
    },
    {
      "cell_type": "code",
      "source": [
        "TEAM_MEMBER_ID = 2\n",
        "\n",
        "print(f\"--- SETUP FOR TEAM MEMBER {TEAM_MEMBER_ID} ---\")\n",
        "print(f\"TensorFlow Version: {tf.__version__}\")\n",
        "print(f\"GPU Available: {tf.config.list_physical_devices('GPU')}\")"
      ],
      "metadata": {
        "colab": {
          "base_uri": "https://localhost:8080/"
        },
        "id": "SaOYLH8cj2Cu",
        "outputId": "7735c852-287d-4397-8d9a-6da4912061b2"
      },
      "execution_count": null,
      "outputs": [
        {
          "output_type": "stream",
          "name": "stdout",
          "text": [
            "--- SETUP FOR TEAM MEMBER 2 ---\n",
            "TensorFlow Version: 2.19.0\n",
            "GPU Available: [PhysicalDevice(name='/physical_device:GPU:0', device_type='GPU')]\n"
          ]
        }
      ]
    },
    {
      "cell_type": "code",
      "source": [
        "print(\"\\nMounting Google Drive...\")\n",
        "drive.mount('/content/drive')"
      ],
      "metadata": {
        "colab": {
          "base_uri": "https://localhost:8080/"
        },
        "id": "kpHROJ1ekA6B",
        "outputId": "4f66da36-8754-45e5-d6e8-041a109c1f32"
      },
      "execution_count": null,
      "outputs": [
        {
          "output_type": "stream",
          "name": "stdout",
          "text": [
            "\n",
            "Mounting Google Drive...\n",
            "Mounted at /content/drive\n"
          ]
        }
      ]
    },
    {
      "cell_type": "code",
      "source": [
        "DRIVE_PATH = \"/content/drive/My Drive/\"\n",
        "ZIP_FILE_PATH = os.path.join(DRIVE_PATH, \"final_data.zip\")\n",
        "PARTITION_FILE = os.path.join(DRIVE_PATH, f\"partition_processed_{TEAM_MEMBER_ID}.json\")\n",
        "MODEL_SAVE_PATH = os.path.join(DRIVE_PATH, f\"keras_cnn_model_{TEAM_MEMBER_ID}.keras\")"
      ],
      "metadata": {
        "id": "PhJk2znokG41"
      },
      "execution_count": null,
      "outputs": []
    },
    {
      "cell_type": "code",
      "source": [
        "print(f\"\\nCopying dataset from {ZIP_FILE_PATH}...\")\n",
        "!cp \"{ZIP_FILE_PATH}\" /content/\n",
        "print(\"Unzipping local dataset...\")\n",
        "!unzip -o /content/final_data.zip -d /content/ > /dev/null\n",
        "print(\"Dataset ready on local disk.\")"
      ],
      "metadata": {
        "colab": {
          "base_uri": "https://localhost:8080/"
        },
        "id": "XG0IFVFdkP_r",
        "outputId": "4d8af323-854d-4c4d-f214-963dfec8c549"
      },
      "execution_count": null,
      "outputs": [
        {
          "output_type": "stream",
          "name": "stdout",
          "text": [
            "\n",
            "Copying dataset from /content/drive/My Drive/final_data.zip...\n",
            "Unzipping local dataset...\n",
            "Dataset ready on local disk.\n"
          ]
        }
      ]
    },
    {
      "cell_type": "code",
      "source": [
        "print(f\"\\nLoading your unique data partition from: {PARTITION_FILE}\")\n",
        "with open(PARTITION_FILE, 'r') as f:\n",
        "    partition_data = json.load(f)\n",
        "my_files = partition_data['files']\n",
        "my_labels = partition_data['labels']\n",
        "print(f\"Successfully loaded {len(my_files)} unique image paths.\")"
      ],
      "metadata": {
        "colab": {
          "base_uri": "https://localhost:8080/"
        },
        "id": "qsuTo1SykSU9",
        "outputId": "0c32e64c-9324-4e7f-888f-81dcc431097a"
      },
      "execution_count": null,
      "outputs": [
        {
          "output_type": "stream",
          "name": "stdout",
          "text": [
            "\n",
            "Loading your unique data partition from: /content/drive/My Drive/partition_processed_2.json\n",
            "Successfully loaded 30000 unique image paths.\n"
          ]
        }
      ]
    },
    {
      "cell_type": "code",
      "source": [
        "print(\"\\n--- Building `tf.data` Pipeline ---\")\n",
        "\n",
        "train_files, val_files, train_labels, val_labels = train_test_split(\n",
        "    my_files, my_labels, test_size=0.2, random_state=42, stratify=my_labels\n",
        ")\n",
        "\n",
        "IMG_SIZE = 224\n",
        "BATCH_SIZE = 32\n",
        "AUTOTUNE = tf.data.AUTOTUNE\n",
        "\n",
        "def parse_image(filename, label):\n",
        "    image = tf.io.read_file(filename)\n",
        "    image = tf.io.decode_jpeg(image, channels=3)\n",
        "    image = tf.image.resize(image, [IMG_SIZE, IMG_SIZE])\n",
        "    image = image / 255.0\n",
        "    return image, label\n",
        "\n",
        "def augment_image(image, label):\n",
        "    image = tf.image.random_flip_left_right(image)\n",
        "    image = tf.image.random_brightness(image, max_delta=0.1)\n",
        "    return image, label\n",
        "\n",
        "def create_dataset(files, labels, is_training=True):\n",
        "    dataset = tf.data.Dataset.from_tensor_slices((files, labels))\n",
        "    dataset = dataset.map(parse_image, num_parallel_calls=AUTOTUNE)\n",
        "    if is_training:\n",
        "        dataset = dataset.shuffle(buffer_size=1000)\n",
        "        dataset = dataset.map(augment_image, num_parallel_calls=AUTOTUNE)\n",
        "    dataset = dataset.batch(BATCH_SIZE)\n",
        "    dataset = dataset.prefetch(buffer_size=AUTOTUNE)\n",
        "    return dataset\n",
        "\n",
        "train_ds = create_dataset(train_files, train_labels)\n",
        "val_ds = create_dataset(val_files, val_labels, is_training=False)\n",
        "print(\"Training and validation datasets are ready!\")"
      ],
      "metadata": {
        "colab": {
          "base_uri": "https://localhost:8080/"
        },
        "id": "-NkBBiFHkcQW",
        "outputId": "e2973ac3-11f3-4dbb-86bd-64b506cc9410"
      },
      "execution_count": null,
      "outputs": [
        {
          "output_type": "stream",
          "name": "stdout",
          "text": [
            "\n",
            "--- Building `tf.data` Pipeline ---\n",
            "Training and validation datasets are ready!\n"
          ]
        }
      ]
    },
    {
      "cell_type": "code",
      "source": [
        "print(\"\\n--- Defining Model Architecture and Loading Checkpoint if Available ---\")\n",
        "\n",
        "def build_model(input_shape=(IMG_SIZE, IMG_SIZE, 3)):\n",
        "    model = tf.keras.models.Sequential([\n",
        "        tf.keras.layers.Conv2D(32, (3, 3), activation='relu', padding='same', input_shape=input_shape),\n",
        "        tf.keras.layers.BatchNormalization(),\n",
        "        tf.keras.layers.MaxPooling2D((2, 2)),\n",
        "        tf.keras.layers.Dropout(0.25),\n",
        "        tf.keras.layers.Conv2D(64, (3, 3), activation='relu', padding='same'),\n",
        "        tf.keras.layers.BatchNormalization(),\n",
        "        tf.keras.layers.MaxPooling2D((2, 2)),\n",
        "        tf.keras.layers.Dropout(0.3),\n",
        "        tf.keras.layers.Conv2D(128, (3, 3), activation='relu', padding='same'),\n",
        "        tf.keras.layers.BatchNormalization(),\n",
        "        tf.keras.layers.MaxPooling2D((2, 2)),\n",
        "        tf.keras.layers.Dropout(0.4),\n",
        "        tf.keras.layers.Flatten(),\n",
        "        tf.keras.layers.Dense(256, activation='relu'),\n",
        "        tf.keras.layers.BatchNormalization(),\n",
        "        tf.keras.layers.Dropout(0.5),\n",
        "        tf.keras.layers.Dense(1)\n",
        "    ])\n",
        "    return model"
      ],
      "metadata": {
        "colab": {
          "base_uri": "https://localhost:8080/"
        },
        "id": "2Fwve5OLkinz",
        "outputId": "72732fdc-b75c-4323-9354-955606128fc4"
      },
      "execution_count": null,
      "outputs": [
        {
          "output_type": "stream",
          "name": "stdout",
          "text": [
            "\n",
            "--- Defining Model Architecture and Loading Checkpoint if Available ---\n"
          ]
        }
      ]
    },
    {
      "cell_type": "code",
      "source": [
        "if os.path.exists(MODEL_SAVE_PATH):\n",
        "    print(f\"Checkpoint found! Loading full model from: {MODEL_SAVE_PATH}\")\n",
        "    model = tf.keras.models.load_model(MODEL_SAVE_PATH)\n",
        "else:\n",
        "    print(\"No checkpoint found. Building a new model from scratch.\")\n",
        "    model = build_model()\n",
        "    model.compile(\n",
        "        optimizer=tf.keras.optimizers.Adam(learning_rate=1e-3),\n",
        "        loss='mae',\n",
        "        metrics=['mae']\n",
        "    )\n"
      ],
      "metadata": {
        "colab": {
          "base_uri": "https://localhost:8080/"
        },
        "id": "htxQiRRikn3l",
        "outputId": "a89bb317-d285-43e9-c5de-085447d1cd78"
      },
      "execution_count": null,
      "outputs": [
        {
          "output_type": "stream",
          "name": "stdout",
          "text": [
            "No checkpoint found. Building a new model from scratch.\n"
          ]
        }
      ]
    },
    {
      "cell_type": "code",
      "source": [
        "print(\"\\n--- Setting Up Training ---\")\n",
        "\n",
        "checkpoint_callback = tf.keras.callbacks.ModelCheckpoint(\n",
        "    filepath=MODEL_SAVE_PATH, monitor='val_mae', mode='min',\n",
        "    save_best_only=True, save_weights_only=False, verbose=1\n",
        ")\n",
        "early_stopping_callback = tf.keras.callbacks.EarlyStopping(\n",
        "    monitor='val_mae', mode='min', patience=5, verbose=1, restore_best_weights=True\n",
        ")\n",
        "reduce_lr_callback = tf.keras.callbacks.ReduceLROnPlateau(\n",
        "    monitor='val_mae', mode='min', factor=0.2, patience=2, verbose=1\n",
        ")\n",
        "\n",
        "NUM_EPOCHS = 40\n",
        "print(f\"\\nStarting training for Model {TEAM_MEMBER_ID} for up to {NUM_EPOCHS} epochs...\")\n",
        "\n",
        "history = model.fit(\n",
        "    train_ds,\n",
        "    epochs=NUM_EPOCHS,\n",
        "    validation_data=val_ds,\n",
        "    callbacks=[checkpoint_callback, early_stopping_callback, reduce_lr_callback]\n",
        ")\n",
        "\n",
        "print(f\"\\nTraining complete! Your best model has been saved to: {MODEL_SAVE_PATH}\")"
      ],
      "metadata": {
        "colab": {
          "base_uri": "https://localhost:8080/"
        },
        "id": "dksqoaBhksE9",
        "outputId": "764b3814-9bf4-4f52-9457-cc5f3fd3149a"
      },
      "execution_count": null,
      "outputs": [
        {
          "output_type": "stream",
          "name": "stdout",
          "text": [
            "\n",
            "--- Setting Up Training ---\n",
            "\n",
            "Starting training for Model 2 for up to 40 epochs...\n",
            "Epoch 1/40\n",
            "\u001b[1m750/750\u001b[0m \u001b[32m━━━━━━━━━━━━━━━━━━━━\u001b[0m\u001b[37m\u001b[0m \u001b[1m0s\u001b[0m 66ms/step - loss: 39.9553 - mae: 39.9553\n",
            "Epoch 1: val_mae improved from inf to 23.95621, saving model to /content/drive/My Drive/keras_cnn_model_2.keras\n",
            "\u001b[1m750/750\u001b[0m \u001b[32m━━━━━━━━━━━━━━━━━━━━\u001b[0m\u001b[37m\u001b[0m \u001b[1m71s\u001b[0m 83ms/step - loss: 39.9420 - mae: 39.9420 - val_loss: 23.9562 - val_mae: 23.9562 - learning_rate: 0.0010\n",
            "Epoch 2/40\n",
            "\u001b[1m750/750\u001b[0m \u001b[32m━━━━━━━━━━━━━━━━━━━━\u001b[0m\u001b[37m\u001b[0m \u001b[1m0s\u001b[0m 65ms/step - loss: 19.0936 - mae: 19.0936\n",
            "Epoch 2: val_mae improved from 23.95621 to 19.06979, saving model to /content/drive/My Drive/keras_cnn_model_2.keras\n",
            "\u001b[1m750/750\u001b[0m \u001b[32m━━━━━━━━━━━━━━━━━━━━\u001b[0m\u001b[37m\u001b[0m \u001b[1m71s\u001b[0m 75ms/step - loss: 19.0930 - mae: 19.0930 - val_loss: 19.0698 - val_mae: 19.0698 - learning_rate: 0.0010\n",
            "Epoch 3/40\n",
            "\u001b[1m750/750\u001b[0m \u001b[32m━━━━━━━━━━━━━━━━━━━━\u001b[0m\u001b[37m\u001b[0m \u001b[1m0s\u001b[0m 65ms/step - loss: 17.9163 - mae: 17.9163\n",
            "Epoch 3: val_mae improved from 19.06979 to 17.24852, saving model to /content/drive/My Drive/keras_cnn_model_2.keras\n",
            "\u001b[1m750/750\u001b[0m \u001b[32m━━━━━━━━━━━━━━━━━━━━\u001b[0m\u001b[37m\u001b[0m \u001b[1m82s\u001b[0m 74ms/step - loss: 17.9158 - mae: 17.9158 - val_loss: 17.2485 - val_mae: 17.2485 - learning_rate: 0.0010\n",
            "Epoch 4/40\n",
            "\u001b[1m750/750\u001b[0m \u001b[32m━━━━━━━━━━━━━━━━━━━━\u001b[0m\u001b[37m\u001b[0m \u001b[1m0s\u001b[0m 65ms/step - loss: 17.0038 - mae: 17.0038\n",
            "Epoch 4: val_mae did not improve from 17.24852\n",
            "\u001b[1m750/750\u001b[0m \u001b[32m━━━━━━━━━━━━━━━━━━━━\u001b[0m\u001b[37m\u001b[0m \u001b[1m55s\u001b[0m 72ms/step - loss: 17.0033 - mae: 17.0033 - val_loss: 26.5937 - val_mae: 26.5937 - learning_rate: 0.0010\n",
            "Epoch 5/40\n",
            "\u001b[1m750/750\u001b[0m \u001b[32m━━━━━━━━━━━━━━━━━━━━\u001b[0m\u001b[37m\u001b[0m \u001b[1m0s\u001b[0m 65ms/step - loss: 16.1764 - mae: 16.1764\n",
            "Epoch 5: val_mae improved from 17.24852 to 17.14425, saving model to /content/drive/My Drive/keras_cnn_model_2.keras\n",
            "\u001b[1m750/750\u001b[0m \u001b[32m━━━━━━━━━━━━━━━━━━━━\u001b[0m\u001b[37m\u001b[0m \u001b[1m83s\u001b[0m 73ms/step - loss: 16.1764 - mae: 16.1764 - val_loss: 17.1443 - val_mae: 17.1443 - learning_rate: 0.0010\n",
            "Epoch 6/40\n",
            "\u001b[1m750/750\u001b[0m \u001b[32m━━━━━━━━━━━━━━━━━━━━\u001b[0m\u001b[37m\u001b[0m \u001b[1m0s\u001b[0m 65ms/step - loss: 16.2461 - mae: 16.2461\n",
            "Epoch 6: val_mae did not improve from 17.14425\n",
            "\u001b[1m750/750\u001b[0m \u001b[32m━━━━━━━━━━━━━━━━━━━━\u001b[0m\u001b[37m\u001b[0m \u001b[1m81s\u001b[0m 72ms/step - loss: 16.2457 - mae: 16.2457 - val_loss: 22.9506 - val_mae: 22.9506 - learning_rate: 0.0010\n",
            "Epoch 7/40\n",
            "\u001b[1m750/750\u001b[0m \u001b[32m━━━━━━━━━━━━━━━━━━━━\u001b[0m\u001b[37m\u001b[0m \u001b[1m0s\u001b[0m 65ms/step - loss: 15.5823 - mae: 15.5823\n",
            "Epoch 7: val_mae improved from 17.14425 to 15.40412, saving model to /content/drive/My Drive/keras_cnn_model_2.keras\n",
            "\u001b[1m750/750\u001b[0m \u001b[32m━━━━━━━━━━━━━━━━━━━━\u001b[0m\u001b[37m\u001b[0m \u001b[1m85s\u001b[0m 76ms/step - loss: 15.5824 - mae: 15.5824 - val_loss: 15.4041 - val_mae: 15.4041 - learning_rate: 0.0010\n",
            "Epoch 8/40\n",
            "\u001b[1m750/750\u001b[0m \u001b[32m━━━━━━━━━━━━━━━━━━━━\u001b[0m\u001b[37m\u001b[0m \u001b[1m0s\u001b[0m 65ms/step - loss: 15.3657 - mae: 15.3657\n",
            "Epoch 8: val_mae did not improve from 15.40412\n",
            "\u001b[1m750/750\u001b[0m \u001b[32m━━━━━━━━━━━━━━━━━━━━\u001b[0m\u001b[37m\u001b[0m \u001b[1m78s\u001b[0m 70ms/step - loss: 15.3654 - mae: 15.3654 - val_loss: 16.2462 - val_mae: 16.2462 - learning_rate: 0.0010\n",
            "Epoch 9/40\n",
            "\u001b[1m750/750\u001b[0m \u001b[32m━━━━━━━━━━━━━━━━━━━━\u001b[0m\u001b[37m\u001b[0m \u001b[1m0s\u001b[0m 65ms/step - loss: 14.9048 - mae: 14.9048\n",
            "Epoch 9: val_mae did not improve from 15.40412\n",
            "\n",
            "Epoch 9: ReduceLROnPlateau reducing learning rate to 0.00020000000949949026.\n",
            "\u001b[1m750/750\u001b[0m \u001b[32m━━━━━━━━━━━━━━━━━━━━\u001b[0m\u001b[37m\u001b[0m \u001b[1m53s\u001b[0m 70ms/step - loss: 14.9045 - mae: 14.9045 - val_loss: 17.7709 - val_mae: 17.7709 - learning_rate: 0.0010\n",
            "Epoch 10/40\n",
            "\u001b[1m750/750\u001b[0m \u001b[32m━━━━━━━━━━━━━━━━━━━━\u001b[0m\u001b[37m\u001b[0m \u001b[1m0s\u001b[0m 65ms/step - loss: 13.9881 - mae: 13.9881\n",
            "Epoch 10: val_mae improved from 15.40412 to 15.08837, saving model to /content/drive/My Drive/keras_cnn_model_2.keras\n",
            "\u001b[1m750/750\u001b[0m \u001b[32m━━━━━━━━━━━━━━━━━━━━\u001b[0m\u001b[37m\u001b[0m \u001b[1m55s\u001b[0m 73ms/step - loss: 13.9879 - mae: 13.9879 - val_loss: 15.0884 - val_mae: 15.0884 - learning_rate: 2.0000e-04\n",
            "Epoch 11/40\n",
            "\u001b[1m750/750\u001b[0m \u001b[32m━━━━━━━━━━━━━━━━━━━━\u001b[0m\u001b[37m\u001b[0m \u001b[1m0s\u001b[0m 65ms/step - loss: 13.9604 - mae: 13.9604\n",
            "Epoch 11: val_mae improved from 15.08837 to 14.18255, saving model to /content/drive/My Drive/keras_cnn_model_2.keras\n",
            "\u001b[1m750/750\u001b[0m \u001b[32m━━━━━━━━━━━━━━━━━━━━\u001b[0m\u001b[37m\u001b[0m \u001b[1m55s\u001b[0m 73ms/step - loss: 13.9600 - mae: 13.9600 - val_loss: 14.1825 - val_mae: 14.1825 - learning_rate: 2.0000e-04\n",
            "Epoch 12/40\n",
            "\u001b[1m750/750\u001b[0m \u001b[32m━━━━━━━━━━━━━━━━━━━━\u001b[0m\u001b[37m\u001b[0m \u001b[1m0s\u001b[0m 66ms/step - loss: 13.4328 - mae: 13.4328\n",
            "Epoch 12: val_mae improved from 14.18255 to 13.69170, saving model to /content/drive/My Drive/keras_cnn_model_2.keras\n",
            "\u001b[1m750/750\u001b[0m \u001b[32m━━━━━━━━━━━━━━━━━━━━\u001b[0m\u001b[37m\u001b[0m \u001b[1m57s\u001b[0m 75ms/step - loss: 13.4327 - mae: 13.4327 - val_loss: 13.6917 - val_mae: 13.6917 - learning_rate: 2.0000e-04\n",
            "Epoch 13/40\n",
            "\u001b[1m750/750\u001b[0m \u001b[32m━━━━━━━━━━━━━━━━━━━━\u001b[0m\u001b[37m\u001b[0m \u001b[1m0s\u001b[0m 66ms/step - loss: 13.3495 - mae: 13.3495\n",
            "Epoch 13: val_mae did not improve from 13.69170\n",
            "\u001b[1m750/750\u001b[0m \u001b[32m━━━━━━━━━━━━━━━━━━━━\u001b[0m\u001b[37m\u001b[0m \u001b[1m55s\u001b[0m 71ms/step - loss: 13.3493 - mae: 13.3493 - val_loss: 15.5666 - val_mae: 15.5666 - learning_rate: 2.0000e-04\n",
            "Epoch 14/40\n",
            "\u001b[1m750/750\u001b[0m \u001b[32m━━━━━━━━━━━━━━━━━━━━\u001b[0m\u001b[37m\u001b[0m \u001b[1m0s\u001b[0m 65ms/step - loss: 13.3511 - mae: 13.3511\n",
            "Epoch 14: val_mae did not improve from 13.69170\n",
            "\n",
            "Epoch 14: ReduceLROnPlateau reducing learning rate to 4.0000001899898055e-05.\n",
            "\u001b[1m750/750\u001b[0m \u001b[32m━━━━━━━━━━━━━━━━━━━━\u001b[0m\u001b[37m\u001b[0m \u001b[1m82s\u001b[0m 72ms/step - loss: 13.3509 - mae: 13.3509 - val_loss: 14.0813 - val_mae: 14.0813 - learning_rate: 2.0000e-04\n",
            "Epoch 15/40\n",
            "\u001b[1m750/750\u001b[0m \u001b[32m━━━━━━━━━━━━━━━━━━━━\u001b[0m\u001b[37m\u001b[0m \u001b[1m0s\u001b[0m 65ms/step - loss: 13.1611 - mae: 13.1611\n",
            "Epoch 15: val_mae did not improve from 13.69170\n",
            "\u001b[1m750/750\u001b[0m \u001b[32m━━━━━━━━━━━━━━━━━━━━\u001b[0m\u001b[37m\u001b[0m \u001b[1m82s\u001b[0m 72ms/step - loss: 13.1609 - mae: 13.1609 - val_loss: 14.2765 - val_mae: 14.2765 - learning_rate: 4.0000e-05\n",
            "Epoch 16/40\n",
            "\u001b[1m750/750\u001b[0m \u001b[32m━━━━━━━━━━━━━━━━━━━━\u001b[0m\u001b[37m\u001b[0m \u001b[1m0s\u001b[0m 65ms/step - loss: 13.0134 - mae: 13.0134\n",
            "Epoch 16: val_mae did not improve from 13.69170\n",
            "\n",
            "Epoch 16: ReduceLROnPlateau reducing learning rate to 8.000000525498762e-06.\n",
            "\u001b[1m750/750\u001b[0m \u001b[32m━━━━━━━━━━━━━━━━━━━━\u001b[0m\u001b[37m\u001b[0m \u001b[1m82s\u001b[0m 72ms/step - loss: 13.0132 - mae: 13.0132 - val_loss: 13.7008 - val_mae: 13.7008 - learning_rate: 4.0000e-05\n",
            "Epoch 17/40\n",
            "\u001b[1m750/750\u001b[0m \u001b[32m━━━━━━━━━━━━━━━━━━━━\u001b[0m\u001b[37m\u001b[0m \u001b[1m0s\u001b[0m 64ms/step - loss: 12.9216 - mae: 12.9216\n",
            "Epoch 17: val_mae did not improve from 13.69170\n",
            "\u001b[1m750/750\u001b[0m \u001b[32m━━━━━━━━━━━━━━━━━━━━\u001b[0m\u001b[37m\u001b[0m \u001b[1m54s\u001b[0m 71ms/step - loss: 12.9215 - mae: 12.9215 - val_loss: 13.7710 - val_mae: 13.7710 - learning_rate: 8.0000e-06\n",
            "Epoch 17: early stopping\n",
            "Restoring model weights from the end of the best epoch: 12.\n",
            "\n",
            "Training complete! Your best model has been saved to: /content/drive/My Drive/keras_cnn_model_2.keras\n"
          ]
        }
      ]
    },
    {
      "cell_type": "code",
      "source": [],
      "metadata": {
        "id": "nvltZ6fRk1wy"
      },
      "execution_count": null,
      "outputs": []
    }
  ]
}