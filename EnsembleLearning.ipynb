{
  "nbformat": 4,
  "nbformat_minor": 0,
  "metadata": {
    "colab": {
      "provenance": [],
      "gpuType": "T4"
    },
    "kernelspec": {
      "name": "python3",
      "display_name": "Python 3"
    },
    "language_info": {
      "name": "python"
    },
    "accelerator": "GPU"
  },
  "cells": [
    {
      "cell_type": "code",
      "execution_count": null,
      "metadata": {
        "colab": {
          "base_uri": "https://localhost:8080/"
        },
        "id": "g2x-aOo_B_mf",
        "outputId": "cbc6fa58-a969-4ead-8d38-8f9fde4a4f36"
      },
      "outputs": [
        {
          "output_type": "stream",
          "name": "stdout",
          "text": [
            "TensorFlow Version: 2.19.0\n",
            "GPU Available: [PhysicalDevice(name='/physical_device:GPU:0', device_type='GPU')]\n"
          ]
        }
      ],
      "source": [
        "import os\n",
        "import numpy as np\n",
        "import tensorflow as tf\n",
        "from google.colab import drive\n",
        "from tqdm import tqdm\n",
        "\n",
        "print(f\"TensorFlow Version: {tf.__version__}\")\n",
        "print(f\"GPU Available: {tf.config.list_physical_devices('GPU')}\")"
      ]
    },
    {
      "cell_type": "code",
      "source": [
        "print(\"\\nMounting Google Drive...\")\n",
        "drive.mount('/content/drive')"
      ],
      "metadata": {
        "colab": {
          "base_uri": "https://localhost:8080/"
        },
        "id": "P99dLm0yCMCk",
        "outputId": "d871b295-6341-4f58-978c-e0f09cb90034"
      },
      "execution_count": null,
      "outputs": [
        {
          "output_type": "stream",
          "name": "stdout",
          "text": [
            "\n",
            "Mounting Google Drive...\n",
            "Mounted at /content/drive\n"
          ]
        }
      ]
    },
    {
      "cell_type": "code",
      "source": [
        "DRIVE_PATH = \"/content/drive/My Drive/\"\n",
        "ZIP_FILE_PATH = os.path.join(DRIVE_PATH, \"final_data.zip\")\n",
        "MODEL_1_PATH = os.path.join(DRIVE_PATH, \"keras_cnn_model_1.keras\")\n",
        "MODEL_2_PATH = os.path.join(DRIVE_PATH, \"keras_cnn_model_2.keras\")\n",
        "MODEL_3_PATH = os.path.join(DRIVE_PATH, \"keras_cnn_model_3.keras\")"
      ],
      "metadata": {
        "id": "-k3twrcWCO9u"
      },
      "execution_count": null,
      "outputs": []
    },
    {
      "cell_type": "code",
      "source": [
        "print(f\"\\nCopying dataset from {ZIP_FILE_PATH}...\")\n",
        "!cp \"{ZIP_FILE_PATH}\" /content/\n",
        "print(\"Unzipping local dataset...\")\n",
        "!unzip -o /content/final_data.zip -d /content/ > /dev/null\n",
        "print(\"Dataset ready on local disk.\")"
      ],
      "metadata": {
        "colab": {
          "base_uri": "https://localhost:8080/"
        },
        "id": "6zWIbvG3CkXx",
        "outputId": "d9fefeab-036c-473d-f1f4-70c359053cde"
      },
      "execution_count": null,
      "outputs": [
        {
          "output_type": "stream",
          "name": "stdout",
          "text": [
            "\n",
            "Copying dataset from /content/drive/My Drive/final_data.zip...\n",
            "Unzipping local dataset...\n",
            "Dataset ready on local disk.\n"
          ]
        }
      ]
    },
    {
      "cell_type": "code",
      "source": [
        "print(\"\\n--- Building Test Data Pipeline ---\")\n",
        "\n",
        "IMG_SIZE = 224\n",
        "BATCH_SIZE = 32\n",
        "AUTOTUNE = tf.data.AUTOTUNE\n",
        "TEST_DIR = 'final_data/test/'\n",
        "\n",
        "def parse_image(filename, label):\n",
        "    image = tf.io.read_file(filename)\n",
        "    image = tf.io.decode_jpeg(image, channels=3)\n",
        "    image = tf.image.resize(image, [IMG_SIZE, IMG_SIZE])\n",
        "    image = image / 255.0\n",
        "    return image, label\n",
        "\n",
        "test_files = []\n",
        "test_labels = []\n",
        "for age_folder in sorted(os.listdir(TEST_DIR)):\n",
        "    folder_path = os.path.join(TEST_DIR, age_folder)\n",
        "    if os.path.isdir(folder_path):\n",
        "        for img_name in os.listdir(folder_path):\n",
        "            test_files.append(os.path.join(folder_path, img_name))\n",
        "            test_labels.append(int(age_folder))\n",
        "\n",
        "test_ds = tf.data.Dataset.from_tensor_slices((test_files, test_labels))\n",
        "test_ds = test_ds.map(parse_image, num_parallel_calls=AUTOTUNE)\n",
        "test_ds = test_ds.batch(BATCH_SIZE)\n",
        "test_ds = test_ds.prefetch(buffer_size=AUTOTUNE)\n",
        "print(f\"Test dataset created with {len(test_files)} images.\")"
      ],
      "metadata": {
        "colab": {
          "base_uri": "https://localhost:8080/"
        },
        "id": "oAqV-YdsCmO5",
        "outputId": "bfc5df91-d7a9-4898-a037-670252f2aaa1"
      },
      "execution_count": null,
      "outputs": [
        {
          "output_type": "stream",
          "name": "stdout",
          "text": [
            "\n",
            "--- Building Test Data Pipeline ---\n",
            "Test dataset created with 47567 images.\n"
          ]
        }
      ]
    },
    {
      "cell_type": "code",
      "source": [
        "model_1 = tf.keras.models.load_model(MODEL_1_PATH)\n",
        "print(\"Model 1 loaded successfully.\")\n",
        "\n",
        "model_2 = tf.keras.models.load_model(MODEL_2_PATH)\n",
        "print(\"Model 2 loaded successfully.\")\n",
        "\n",
        "model_3 = tf.keras.models.load_model(MODEL_3_PATH)\n",
        "print(\"Model 3 loaded successfully.\")\n",
        "\n",
        "models = [model_1, model_2, model_3]"
      ],
      "metadata": {
        "colab": {
          "base_uri": "https://localhost:8080/"
        },
        "id": "XUeHvjkhCxmT",
        "outputId": "cf9ed2b1-28cb-4ddc-bbb2-a060b02235be"
      },
      "execution_count": null,
      "outputs": [
        {
          "output_type": "stream",
          "name": "stdout",
          "text": [
            "Model 1 loaded successfully.\n",
            "Model 2 loaded successfully.\n",
            "Model 3 loaded successfully.\n"
          ]
        }
      ]
    },
    {
      "cell_type": "code",
      "source": [
        "all_predictions = []\n",
        "all_true_labels = []\n",
        "\n",
        "print(\"\\nRunning evaluation on the unseen test set...\")\n",
        "for images, labels in tqdm(test_ds, desc=\"Evaluating Ensemble\"):\n",
        "    preds1 = model_1.predict(images, verbose=0)\n",
        "    preds2 = model_2.predict(images, verbose=0)\n",
        "    preds3 = model_3.predict(images, verbose=0)\n",
        "\n",
        "    avg_preds = (preds1 + preds2 + preds3) / 3.0\n",
        "\n",
        "    all_predictions.extend(avg_preds.squeeze())\n",
        "    all_true_labels.extend(labels.numpy())"
      ],
      "metadata": {
        "colab": {
          "base_uri": "https://localhost:8080/"
        },
        "id": "orb_OxuFC1BV",
        "outputId": "032c6e27-766c-4747-a03d-d18c0333e88f"
      },
      "execution_count": null,
      "outputs": [
        {
          "output_type": "stream",
          "name": "stdout",
          "text": [
            "\n",
            "Running evaluation on the unseen test set...\n"
          ]
        },
        {
          "output_type": "stream",
          "name": "stderr",
          "text": [
            "Evaluating Ensemble: 100%|██████████| 1487/1487 [07:23<00:00,  3.36it/s]\n"
          ]
        }
      ]
    },
    {
      "cell_type": "code",
      "source": [
        "final_mae = tf.keras.losses.MAE(all_true_labels, all_predictions).numpy()\n",
        "\n",
        "print(\"\\n\" + \"=\"*50)\n",
        "print(f\"        FINAL ENSEMBLE PROJECT RESULT\")\n",
        "print(\"=\"*50)\n",
        "print(f\"\\n  Mean Absolute Error (MAE) on the unseen test set:\")\n",
        "print(f\"  --> {final_mae:.2f} years <--\")\n",
        "print(\"\\n\"+\"=\"*50)"
      ],
      "metadata": {
        "colab": {
          "base_uri": "https://localhost:8080/"
        },
        "id": "I_Dh3cMhC82a",
        "outputId": "ccfd2327-fb28-456b-c3ef-5885f49cd832"
      },
      "execution_count": null,
      "outputs": [
        {
          "output_type": "stream",
          "name": "stdout",
          "text": [
            "\n",
            "==================================================\n",
            "        FINAL ENSEMBLE PROJECT RESULT\n",
            "==================================================\n",
            "\n",
            "  Mean Absolute Error (MAE) on the unseen test set:\n",
            "  --> 10.23 years <--\n",
            "\n",
            "==================================================\n"
          ]
        }
      ]
    },
    {
      "cell_type": "code",
      "source": [
        "import google.colab.files as files\n",
        "\n",
        "def predict_age_for_image(image_path, models):\n",
        "    try:\n",
        "        image = tf.io.read_file(image_path)\n",
        "        image = tf.io.decode_jpeg(image, channels=3)\n",
        "        image = tf.image.resize(image, [IMG_SIZE, IMG_SIZE])\n",
        "        image = image / 255.0\n",
        "        image = tf.expand_dims(image, axis=0)\n",
        "\n",
        "        individual_preds = []\n",
        "        for model in models:\n",
        "            pred = model.predict(image, verbose=0).squeeze()\n",
        "            individual_preds.append(pred)\n",
        "\n",
        "        ensemble_pred = np.mean(individual_preds)\n",
        "\n",
        "        return individual_preds, ensemble_pred\n",
        "\n",
        "    except Exception as e:\n",
        "        print(f\"Error processing image {image_path}: {e}\")\n",
        "        return None, None\n",
        "\n",
        "print(\"Please upload the image you want to predict the age for.\")\n",
        "uploaded = files.upload()\n",
        "\n",
        "if uploaded:\n",
        "    image_filename = list(uploaded.keys())[0]\n",
        "    image_path_input = os.path.join(\"/content/\", image_filename)\n",
        "    if os.path.exists(image_path_input):\n",
        "        individual_predictions, ensemble_prediction = predict_age_for_image(image_path_input, models)\n",
        "\n",
        "        if individual_predictions is not None:\n",
        "            print(\"\\n--- Prediction Results ---\")\n",
        "            for i, pred in enumerate(individual_predictions):\n",
        "                print(f\"Model {i+1} Predicted Age: {pred:.2f} years\")\n",
        "\n",
        "            print(f\"\\nEnsemble Predicted Age: {ensemble_prediction:.2f} years\")\n",
        "            print(\"------------------------\")\n",
        "\n",
        "        os.remove(image_path_input)\n",
        "        print(f\"Removed uploaded file: {image_path_input}\")\n",
        "else:\n",
        "    print(\"No file was uploaded.\")"
      ],
      "metadata": {
        "id": "gFhJOpqYHxA7",
        "colab": {
          "base_uri": "https://localhost:8080/"
        },
        "outputId": "ecf50423-27bd-482a-b50c-cbd1a966cc04"
      },
      "execution_count": null,
      "outputs": [
        {
          "metadata": {
            "tags": null
          },
          "name": "stdout",
          "output_type": "stream",
          "text": [
            "Please upload the image you want to predict the age for.\n"
          ]
        },
        {
          "data": {
            "text/html": [
              "\n",
              "     <input type=\"file\" id=\"files-085f570f-30cb-4ab7-9fbf-00ce66afa273\" name=\"files[]\" multiple disabled\n",
              "        style=\"border:none\" />\n",
              "     <output id=\"result-085f570f-30cb-4ab7-9fbf-00ce66afa273\">\n",
              "      Upload widget is only available when the cell has been executed in the\n",
              "      current browser session. Please rerun this cell to enable.\n",
              "      </output>\n",
              "      <script>// Copyright 2017 Google LLC\n",
              "//\n",
              "// Licensed under the Apache License, Version 2.0 (the \"License\");\n",
              "// you may not use this file except in compliance with the License.\n",
              "// You may obtain a copy of the License at\n",
              "//\n",
              "//      http://www.apache.org/licenses/LICENSE-2.0\n",
              "//\n",
              "// Unless required by applicable law or agreed to in writing, software\n",
              "// distributed under the License is distributed on an \"AS IS\" BASIS,\n",
              "// WITHOUT WARRANTIES OR CONDITIONS OF ANY KIND, either express or implied.\n",
              "// See the License for the specific language governing permissions and\n",
              "// limitations under the License.\n",
              "\n",
              "/**\n",
              " * @fileoverview Helpers for google.colab Python module.\n",
              " */\n",
              "(function(scope) {\n",
              "function span(text, styleAttributes = {}) {\n",
              "  const element = document.createElement('span');\n",
              "  element.textContent = text;\n",
              "  for (const key of Object.keys(styleAttributes)) {\n",
              "    element.style[key] = styleAttributes[key];\n",
              "  }\n",
              "  return element;\n",
              "}\n",
              "\n",
              "// Max number of bytes which will be uploaded at a time.\n",
              "const MAX_PAYLOAD_SIZE = 100 * 1024;\n",
              "\n",
              "function _uploadFiles(inputId, outputId) {\n",
              "  const steps = uploadFilesStep(inputId, outputId);\n",
              "  const outputElement = document.getElementById(outputId);\n",
              "  // Cache steps on the outputElement to make it available for the next call\n",
              "  // to uploadFilesContinue from Python.\n",
              "  outputElement.steps = steps;\n",
              "\n",
              "  return _uploadFilesContinue(outputId);\n",
              "}\n",
              "\n",
              "// This is roughly an async generator (not supported in the browser yet),\n",
              "// where there are multiple asynchronous steps and the Python side is going\n",
              "// to poll for completion of each step.\n",
              "// This uses a Promise to block the python side on completion of each step,\n",
              "// then passes the result of the previous step as the input to the next step.\n",
              "function _uploadFilesContinue(outputId) {\n",
              "  const outputElement = document.getElementById(outputId);\n",
              "  const steps = outputElement.steps;\n",
              "\n",
              "  const next = steps.next(outputElement.lastPromiseValue);\n",
              "  return Promise.resolve(next.value.promise).then((value) => {\n",
              "    // Cache the last promise value to make it available to the next\n",
              "    // step of the generator.\n",
              "    outputElement.lastPromiseValue = value;\n",
              "    return next.value.response;\n",
              "  });\n",
              "}\n",
              "\n",
              "/**\n",
              " * Generator function which is called between each async step of the upload\n",
              " * process.\n",
              " * @param {string} inputId Element ID of the input file picker element.\n",
              " * @param {string} outputId Element ID of the output display.\n",
              " * @return {!Iterable<!Object>} Iterable of next steps.\n",
              " */\n",
              "function* uploadFilesStep(inputId, outputId) {\n",
              "  const inputElement = document.getElementById(inputId);\n",
              "  inputElement.disabled = false;\n",
              "\n",
              "  const outputElement = document.getElementById(outputId);\n",
              "  outputElement.innerHTML = '';\n",
              "\n",
              "  const pickedPromise = new Promise((resolve) => {\n",
              "    inputElement.addEventListener('change', (e) => {\n",
              "      resolve(e.target.files);\n",
              "    });\n",
              "  });\n",
              "\n",
              "  const cancel = document.createElement('button');\n",
              "  inputElement.parentElement.appendChild(cancel);\n",
              "  cancel.textContent = 'Cancel upload';\n",
              "  const cancelPromise = new Promise((resolve) => {\n",
              "    cancel.onclick = () => {\n",
              "      resolve(null);\n",
              "    };\n",
              "  });\n",
              "\n",
              "  // Wait for the user to pick the files.\n",
              "  const files = yield {\n",
              "    promise: Promise.race([pickedPromise, cancelPromise]),\n",
              "    response: {\n",
              "      action: 'starting',\n",
              "    }\n",
              "  };\n",
              "\n",
              "  cancel.remove();\n",
              "\n",
              "  // Disable the input element since further picks are not allowed.\n",
              "  inputElement.disabled = true;\n",
              "\n",
              "  if (!files) {\n",
              "    return {\n",
              "      response: {\n",
              "        action: 'complete',\n",
              "      }\n",
              "    };\n",
              "  }\n",
              "\n",
              "  for (const file of files) {\n",
              "    const li = document.createElement('li');\n",
              "    li.append(span(file.name, {fontWeight: 'bold'}));\n",
              "    li.append(span(\n",
              "        `(${file.type || 'n/a'}) - ${file.size} bytes, ` +\n",
              "        `last modified: ${\n",
              "            file.lastModifiedDate ? file.lastModifiedDate.toLocaleDateString() :\n",
              "                                    'n/a'} - `));\n",
              "    const percent = span('0% done');\n",
              "    li.appendChild(percent);\n",
              "\n",
              "    outputElement.appendChild(li);\n",
              "\n",
              "    const fileDataPromise = new Promise((resolve) => {\n",
              "      const reader = new FileReader();\n",
              "      reader.onload = (e) => {\n",
              "        resolve(e.target.result);\n",
              "      };\n",
              "      reader.readAsArrayBuffer(file);\n",
              "    });\n",
              "    // Wait for the data to be ready.\n",
              "    let fileData = yield {\n",
              "      promise: fileDataPromise,\n",
              "      response: {\n",
              "        action: 'continue',\n",
              "      }\n",
              "    };\n",
              "\n",
              "    // Use a chunked sending to avoid message size limits. See b/62115660.\n",
              "    let position = 0;\n",
              "    do {\n",
              "      const length = Math.min(fileData.byteLength - position, MAX_PAYLOAD_SIZE);\n",
              "      const chunk = new Uint8Array(fileData, position, length);\n",
              "      position += length;\n",
              "\n",
              "      const base64 = btoa(String.fromCharCode.apply(null, chunk));\n",
              "      yield {\n",
              "        response: {\n",
              "          action: 'append',\n",
              "          file: file.name,\n",
              "          data: base64,\n",
              "        },\n",
              "      };\n",
              "\n",
              "      let percentDone = fileData.byteLength === 0 ?\n",
              "          100 :\n",
              "          Math.round((position / fileData.byteLength) * 100);\n",
              "      percent.textContent = `${percentDone}% done`;\n",
              "\n",
              "    } while (position < fileData.byteLength);\n",
              "  }\n",
              "\n",
              "  // All done.\n",
              "  yield {\n",
              "    response: {\n",
              "      action: 'complete',\n",
              "    }\n",
              "  };\n",
              "}\n",
              "\n",
              "scope.google = scope.google || {};\n",
              "scope.google.colab = scope.google.colab || {};\n",
              "scope.google.colab._files = {\n",
              "  _uploadFiles,\n",
              "  _uploadFilesContinue,\n",
              "};\n",
              "})(self);\n",
              "</script> "
            ],
            "text/plain": [
              "<IPython.core.display.HTML object>"
            ]
          },
          "metadata": {},
          "output_type": "display_data"
        }
      ]
    },
    {
      "cell_type": "code",
      "source": [],
      "metadata": {
        "id": "Hxx-SBxF3CUh"
      },
      "execution_count": null,
      "outputs": []
    }
  ]
}